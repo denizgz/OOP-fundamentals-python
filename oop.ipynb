{
 "cells": [
  {
   "cell_type": "markdown",
   "source": [
    "# Object Oriented Programming – Intro\r\n",
    "\r\n",
    "## What’s OOP ?\r\n",
    "### Procedural vs Object Oriented\r\n",
    "- Procedural programming :\r\n",
    "    -  sequential coding\r\n",
    "    - OK for Data Analysis\r\n",
    "- Object Oriented\r\n",
    "    - Coding as interaction for object\r\n",
    "    - Frameworks and tools\r\n",
    "    - usability\r\n",
    "\r\n",
    "## Terminology\r\n",
    "1. Object = state + behaviour  ==> a FIlou a dog has 4 legs and a tail, and can bark and fetch a ball\r\n",
    "2. Encapsulation = handling data with code operating on it\r\n",
    "3. Classes are like blueprints for possible states & behaviour\r\n",
    "    - class = abstract pattern  (example: dog)\r\n",
    "    - object = particular representation of a class  ( = Filou )"
   ],
   "metadata": {}
  },
  {
   "cell_type": "code",
   "execution_count": 1,
   "source": [
    "class Employee:\r\n",
    "    # set the name attribute to new_name\r\n",
    "    def set_name(self, new_name):\r\n",
    "        # create attribute by assigning a name\r\n",
    "        self.name = new_name\r\n",
    "\r\n",
    "    def set_salary(self, new_salary):\r\n",
    "        self.salary = new_salary \r\n",
    "\r\n",
    "    def give_raise(self, amount):\r\n",
    "        self.salary = self.salary + amount\r\n",
    "\r\n",
    "    # Add monthly_salary method that returns 1/12th of salary attribute\r\n",
    "    def monthly_salary(self):\r\n",
    "        self.salary = self.salary / 12\r\n",
    "        return self.salary\r\n",
    "\r\n",
    "\r\n",
    "# Create an object emp of class Employee\r\n",
    "emp = Employee()\r\n",
    "\r\n",
    "# Use set_name to set the name of emp to 'Korel Rossi'\r\n",
    "emp.set_name('Korel Rossi')\r\n",
    "\r\n",
    "# Set the salary of emp to 50000\r\n",
    "emp.set_salary(50000)\r\n",
    "\r\n",
    "# Get monthly salary of emp and assign to mon_sal\r\n",
    "mon_sal = emp.monthly_salary()\r\n",
    "\r\n",
    "# Print mon_sal\r\n",
    "print(mon_sal)"
   ],
   "outputs": [
    {
     "output_type": "stream",
     "name": "stdout",
     "text": [
      "4166.666666666667\n"
     ]
    }
   ],
   "metadata": {}
  },
  {
   "cell_type": "code",
   "execution_count": null,
   "source": [],
   "outputs": [],
   "metadata": {}
  }
 ],
 "metadata": {
  "orig_nbformat": 4,
  "language_info": {
   "name": "python",
   "version": "3.9.7",
   "mimetype": "text/x-python",
   "codemirror_mode": {
    "name": "ipython",
    "version": 3
   },
   "pygments_lexer": "ipython3",
   "nbconvert_exporter": "python",
   "file_extension": ".py"
  },
  "kernelspec": {
   "name": "python3",
   "display_name": "Python 3.9.7 64-bit (windows store)"
  },
  "interpreter": {
   "hash": "08bcf114b6799a788c3e4c5366ee28d230c9527aecb5fe8828812464fcb419b7"
  }
 },
 "nbformat": 4,
 "nbformat_minor": 2
}